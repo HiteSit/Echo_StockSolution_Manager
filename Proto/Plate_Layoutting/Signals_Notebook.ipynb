{
 "cells": [
  {
   "cell_type": "code",
   "execution_count": 2,
   "metadata": {},
   "outputs": [],
   "source": [
    "import requests"
   ]
  },
  {
   "cell_type": "code",
   "execution_count": 3,
   "metadata": {},
   "outputs": [],
   "source": [
    "API_KEY = \"J4hY/lWSimYgKPy8bvpIgLMfojejVIUwy5a7FB3nHzj7IkKr0ljZqKAqLvCwaaV841qBwQ==\"\n",
    "\n",
    "url = \"https://domling-group.signalsresearch.revvitycloud.eu/api/rest/v1.0/entities\"\n",
    "params = {\n",
    "    \"page[offset]\": 0,\n",
    "    \"page[limit]\": 80,\n",
    "    \"includeTypes\": \"experiment\",\n",
    "    \"excludeTypes\": \"journal\",\n",
    "    \"includeOptions\": \"untrashed\",\n",
    "}\n",
    "headers = {\n",
    "    \"Accept\": \"application/vnd.api+json\",\n",
    "    \"X-API-Key\": API_KEY,\n",
    "}\n",
    "\n",
    "resp = requests.get(url, params=params, headers=headers)\n",
    "resp.raise_for_status()\n",
    "response = resp.json()"
   ]
  },
  {
   "cell_type": "code",
   "execution_count": 4,
   "metadata": {},
   "outputs": [
    {
     "name": "stdout",
     "output_type": "stream",
     "text": [
      "80\n"
     ]
    }
   ],
   "source": [
    "data = response[\"data\"]\n",
    "print(len(data))"
   ]
  },
  {
   "cell_type": "code",
   "execution_count": 9,
   "metadata": {},
   "outputs": [],
   "source": [
    "data_single = data[45]"
   ]
  }
 ],
 "metadata": {
  "kernelspec": {
   "display_name": ".venv",
   "language": "python",
   "name": "python3"
  },
  "language_info": {
   "codemirror_mode": {
    "name": "ipython",
    "version": 3
   },
   "file_extension": ".py",
   "mimetype": "text/x-python",
   "name": "python",
   "nbconvert_exporter": "python",
   "pygments_lexer": "ipython3",
   "version": "3.11.12"
  }
 },
 "nbformat": 4,
 "nbformat_minor": 2
}
