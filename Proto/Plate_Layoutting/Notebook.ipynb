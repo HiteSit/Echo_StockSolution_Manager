{
 "cells": [
  {
   "cell_type": "code",
   "execution_count": 1,
   "metadata": {},
   "outputs": [],
   "source": [
    "import os\n",
    "import sys\n",
    "from pathlib import Path\n",
    "import numpy as np\n",
    "\n",
    "import pandas as pd\n",
    "import datamol as dm"
   ]
  },
  {
   "cell_type": "code",
   "execution_count": 2,
   "metadata": {},
   "outputs": [],
   "source": [
    "def generate_plate_wells(plate_type='384'):\n",
    "    import string\n",
    "    \n",
    "    \"\"\"\n",
    "    Return a list of well addresses in row-major order\n",
    "    for a standard 96 or 384 well plate.\n",
    "    \"\"\"\n",
    "    if plate_type == '96':\n",
    "        rows = list(string.ascii_uppercase[:8])    # A–H\n",
    "        cols = list(range(1,13))                   # 1–12\n",
    "    elif plate_type == '384':\n",
    "        rows = list(string.ascii_uppercase[:16])   # A–P\n",
    "        cols = list(range(1,25))                   # 1–24\n",
    "    else:\n",
    "        raise ValueError(\"Unsupported plate type\")\n",
    "    return [f\"{r}{c}\" for r in rows for c in cols]"
   ]
  },
  {
   "cell_type": "markdown",
   "metadata": {},
   "source": [
    "# Organizing WorkFlow"
   ]
  },
  {
   "cell_type": "code",
   "execution_count": 3,
   "metadata": {},
   "outputs": [],
   "source": [
    "cherry_pick_path = Path(\"./CherryPick.csv\")\n",
    "cherry_pick_df = pd.read_csv(cherry_pick_path)\n",
    "\n",
    "reag_prod_path = Path(\"./Reactions_Products.csv\")\n",
    "reag_prod_df = pd.read_csv(reag_prod_path)"
   ]
  },
  {
   "cell_type": "code",
   "execution_count": 4,
   "metadata": {},
   "outputs": [],
   "source": [
    "def convert_to_smiles(inchi):\n",
    "    try:\n",
    "        mol = dm.from_inchi(inchi)\n",
    "        return dm.to_smiles(mol, canonical=True, isomeric=True, kekulize=True)\n",
    "    except:\n",
    "        return np.nan"
   ]
  },
  {
   "cell_type": "code",
   "execution_count": 5,
   "metadata": {},
   "outputs": [],
   "source": [
    "pattern = r'^(R[1-4]|P1)$'\n",
    "matching_cols = list(reag_prod_df.filter(regex=pattern).columns)"
   ]
  },
  {
   "cell_type": "code",
   "execution_count": 6,
   "metadata": {},
   "outputs": [],
   "source": [
    "for col in matching_cols:\n",
    "    reag_prod_df[col] = reag_prod_df[col].apply(convert_to_smiles)"
   ]
  },
  {
   "cell_type": "code",
   "execution_count": 7,
   "metadata": {},
   "outputs": [],
   "source": [
    "# Get unique values for each column\n",
    "r1_unique = reag_prod_df[\"R1\"].unique()\n",
    "r1_unique = np.append(r1_unique, [\n",
    "    \"CC(C)C(F)(F)C1=C(N)C=NC=C1\",\n",
    "    \"CC(C)CC1=C(N)C=NC=C1\",\n",
    "    \"CCCCN\",\n",
    "    \"NCC1=CC=CC=C1\",\n",
    "    \"CC(N)CC1=CC2=C(C=CC=C2)C=C1\"\n",
    "])\n",
    "\n",
    "r2_unique = reag_prod_df[\"R2\"].unique()\n",
    "r3_unique = reag_prod_df[\"R3\"].unique()\n",
    "\n",
    "r4_unique = reag_prod_df[\"R4\"].unique()\n",
    "r4_unique = np.append(r4_unique, [\n",
    "    \"CCC(C)([N+]#[C-])C(C)C\",\n",
    "    \"CC1=CC=C(C=C1)[N+]#[C-]\",\n",
    "    \"[C-]#[N+]C1=CC=CC=C1\",\n",
    "    \"CC1=CC=CC=C1[N+]#[C-]\",\n",
    "    \"CCC\\C=C(/C)[N+]#[C-]\"\n",
    "])\n",
    "\n",
    "# Find the maximum length\n",
    "max_len = max(len(r1_unique), len(r2_unique), len(r3_unique), len(r4_unique))\n",
    "\n",
    "# Pad each array with np.nan to match the maximum length\n",
    "def pad(arr, length):\n",
    "    return np.concatenate([arr, [np.nan] * (length - len(arr))])\n",
    "\n",
    "reactants_df = pd.DataFrame({\n",
    "    \"R1\": pad(r1_unique, max_len),\n",
    "    \"R2\": pad(r2_unique, max_len),\n",
    "    \"R3\": pad(r3_unique, max_len),\n",
    "    \"R4\": pad(r4_unique, max_len),\n",
    "})"
   ]
  },
  {
   "cell_type": "code",
   "execution_count": null,
   "metadata": {},
   "outputs": [],
   "source": []
  },
  {
   "cell_type": "markdown",
   "metadata": {},
   "source": [
    "# Real WorkFlow"
   ]
  },
  {
   "cell_type": "code",
   "execution_count": 8,
   "metadata": {},
   "outputs": [],
   "source": [
    "from itertools import product"
   ]
  },
  {
   "cell_type": "code",
   "execution_count": 9,
   "metadata": {},
   "outputs": [],
   "source": [
    "sys.path.append(\"/home/hitesit/Python_Packages/General_Utils\")\n",
    "from Clusterer_GPT import Hierarchical_Clustering"
   ]
  },
  {
   "cell_type": "code",
   "execution_count": 10,
   "metadata": {},
   "outputs": [],
   "source": [
    "def run_reaction(r1, r2, r3, r4):\n",
    "    rxn = dm.reactions.rxn_from_block_file(\"./Ugi_4CR_reaction.rxn\")\n",
    "    \n",
    "    product_lst = dm.reactions.apply_reaction(rxn, (r1, r2, r3, r4), single_product_group=True)\n",
    "    if not isinstance(product_lst, list):\n",
    "        return None\n",
    "    if len(product_lst) == 1:\n",
    "        return product_lst[0]\n",
    "    else:\n",
    "        return None"
   ]
  },
  {
   "cell_type": "code",
   "execution_count": 11,
   "metadata": {},
   "outputs": [],
   "source": [
    "r1_list = [r for r in reactants_df[\"R1\"].unique() if pd.notna(r)]\n",
    "r2_list = [r for r in reactants_df[\"R2\"].unique() if pd.notna(r)]\n",
    "r3_list = [r for r in reactants_df[\"R3\"].unique() if pd.notna(r)]\n",
    "r4_list = [r for r in reactants_df[\"R4\"].unique() if pd.notna(r)]"
   ]
  },
  {
   "cell_type": "code",
   "execution_count": 12,
   "metadata": {},
   "outputs": [],
   "source": [
    "rows = []\n",
    "for a, b, c, d in product(r1_list, r2_list, r3_list, r4_list):\n",
    "    a_mol = dm.to_mol(a)\n",
    "    b_mol = dm.to_mol(b)\n",
    "    c_mol = dm.to_mol(c)\n",
    "    d_mol = dm.to_mol(d)\n",
    "    \n",
    "    prod = run_reaction(a_mol, b_mol, c_mol, d_mol)\n",
    "    \n",
    "    row = {\n",
    "        \"R1\": a,\n",
    "        \"R2\": b,\n",
    "        \"R3\": c,\n",
    "        \"R4\": d,\n",
    "        \"Product\": dm.to_smiles(prod)\n",
    "    }\n",
    "    rows.append(row)"
   ]
  },
  {
   "cell_type": "code",
   "execution_count": 13,
   "metadata": {},
   "outputs": [
    {
     "data": {
      "text/html": [
       "<div>\n",
       "<style scoped>\n",
       "    .dataframe tbody tr th:only-of-type {\n",
       "        vertical-align: middle;\n",
       "    }\n",
       "\n",
       "    .dataframe tbody tr th {\n",
       "        vertical-align: top;\n",
       "    }\n",
       "\n",
       "    .dataframe thead th {\n",
       "        text-align: right;\n",
       "    }\n",
       "</style>\n",
       "<table border=\"1\" class=\"dataframe\">\n",
       "  <thead>\n",
       "    <tr style=\"text-align: right;\">\n",
       "      <th></th>\n",
       "      <th>R1</th>\n",
       "      <th>R2</th>\n",
       "      <th>R3</th>\n",
       "      <th>R4</th>\n",
       "      <th>Product</th>\n",
       "    </tr>\n",
       "  </thead>\n",
       "  <tbody>\n",
       "    <tr>\n",
       "      <th>0</th>\n",
       "      <td>NC1=CN=C(O)C=C1</td>\n",
       "      <td>C=O</td>\n",
       "      <td>C=CC(=O)O</td>\n",
       "      <td>[C-]#[N+]C(C)(C)C</td>\n",
       "      <td>C=CC(=O)N(CC(=O)NC(C)(C)C)c1ccc(O)nc1</td>\n",
       "    </tr>\n",
       "    <tr>\n",
       "      <th>1</th>\n",
       "      <td>NC1=CN=C(O)C=C1</td>\n",
       "      <td>C=O</td>\n",
       "      <td>C=CC(=O)O</td>\n",
       "      <td>[C-]#[N+]C1CCCCC1</td>\n",
       "      <td>C=CC(=O)N(CC(=O)NC1CCCCC1)c1ccc(O)nc1</td>\n",
       "    </tr>\n",
       "    <tr>\n",
       "      <th>2</th>\n",
       "      <td>NC1=CN=C(O)C=C1</td>\n",
       "      <td>C=O</td>\n",
       "      <td>C=CC(=O)O</td>\n",
       "      <td>CCC(C)([N+]#[C-])C(C)C</td>\n",
       "      <td>C=CC(=O)N(CC(=O)NC(C)(CC)C(C)C)c1ccc(O)nc1</td>\n",
       "    </tr>\n",
       "    <tr>\n",
       "      <th>3</th>\n",
       "      <td>NC1=CN=C(O)C=C1</td>\n",
       "      <td>C=O</td>\n",
       "      <td>C=CC(=O)O</td>\n",
       "      <td>CC1=CC=C(C=C1)[N+]#[C-]</td>\n",
       "      <td>C=CC(=O)N(CC(=O)Nc1ccc(C)cc1)c1ccc(O)nc1</td>\n",
       "    </tr>\n",
       "    <tr>\n",
       "      <th>4</th>\n",
       "      <td>NC1=CN=C(O)C=C1</td>\n",
       "      <td>C=O</td>\n",
       "      <td>C=CC(=O)O</td>\n",
       "      <td>[C-]#[N+]C1=CC=CC=C1</td>\n",
       "      <td>C=CC(=O)N(CC(=O)Nc1ccccc1)c1ccc(O)nc1</td>\n",
       "    </tr>\n",
       "    <tr>\n",
       "      <th>...</th>\n",
       "      <td>...</td>\n",
       "      <td>...</td>\n",
       "      <td>...</td>\n",
       "      <td>...</td>\n",
       "      <td>...</td>\n",
       "    </tr>\n",
       "    <tr>\n",
       "      <th>499</th>\n",
       "      <td>CC(N)CC1=CC2=C(C=CC=C2)C=C1</td>\n",
       "      <td>O=CC1CC1</td>\n",
       "      <td>C=C(C)C(=O)O</td>\n",
       "      <td>CCC(C)([N+]#[C-])C(C)C</td>\n",
       "      <td>C=C(C)C(=O)N(C(C)Cc1ccc2ccccc2c1)C(C(=O)NC(C)(...</td>\n",
       "    </tr>\n",
       "    <tr>\n",
       "      <th>500</th>\n",
       "      <td>CC(N)CC1=CC2=C(C=CC=C2)C=C1</td>\n",
       "      <td>O=CC1CC1</td>\n",
       "      <td>C=C(C)C(=O)O</td>\n",
       "      <td>CC1=CC=C(C=C1)[N+]#[C-]</td>\n",
       "      <td>C=C(C)C(=O)N(C(C)Cc1ccc2ccccc2c1)C(C(=O)Nc1ccc...</td>\n",
       "    </tr>\n",
       "    <tr>\n",
       "      <th>501</th>\n",
       "      <td>CC(N)CC1=CC2=C(C=CC=C2)C=C1</td>\n",
       "      <td>O=CC1CC1</td>\n",
       "      <td>C=C(C)C(=O)O</td>\n",
       "      <td>[C-]#[N+]C1=CC=CC=C1</td>\n",
       "      <td>C=C(C)C(=O)N(C(C)Cc1ccc2ccccc2c1)C(C(=O)Nc1ccc...</td>\n",
       "    </tr>\n",
       "    <tr>\n",
       "      <th>502</th>\n",
       "      <td>CC(N)CC1=CC2=C(C=CC=C2)C=C1</td>\n",
       "      <td>O=CC1CC1</td>\n",
       "      <td>C=C(C)C(=O)O</td>\n",
       "      <td>CC1=CC=CC=C1[N+]#[C-]</td>\n",
       "      <td>C=C(C)C(=O)N(C(C)Cc1ccc2ccccc2c1)C(C(=O)Nc1ccc...</td>\n",
       "    </tr>\n",
       "    <tr>\n",
       "      <th>503</th>\n",
       "      <td>CC(N)CC1=CC2=C(C=CC=C2)C=C1</td>\n",
       "      <td>O=CC1CC1</td>\n",
       "      <td>C=C(C)C(=O)O</td>\n",
       "      <td>CCC\\C=C(/C)[N+]#[C-]</td>\n",
       "      <td>C=C(C)C(=O)N(C(C)Cc1ccc2ccccc2c1)C(C(=O)N/C(C)...</td>\n",
       "    </tr>\n",
       "  </tbody>\n",
       "</table>\n",
       "<p>504 rows × 5 columns</p>\n",
       "</div>"
      ],
      "text/plain": [
       "                              R1        R2            R3  \\\n",
       "0                NC1=CN=C(O)C=C1       C=O     C=CC(=O)O   \n",
       "1                NC1=CN=C(O)C=C1       C=O     C=CC(=O)O   \n",
       "2                NC1=CN=C(O)C=C1       C=O     C=CC(=O)O   \n",
       "3                NC1=CN=C(O)C=C1       C=O     C=CC(=O)O   \n",
       "4                NC1=CN=C(O)C=C1       C=O     C=CC(=O)O   \n",
       "..                           ...       ...           ...   \n",
       "499  CC(N)CC1=CC2=C(C=CC=C2)C=C1  O=CC1CC1  C=C(C)C(=O)O   \n",
       "500  CC(N)CC1=CC2=C(C=CC=C2)C=C1  O=CC1CC1  C=C(C)C(=O)O   \n",
       "501  CC(N)CC1=CC2=C(C=CC=C2)C=C1  O=CC1CC1  C=C(C)C(=O)O   \n",
       "502  CC(N)CC1=CC2=C(C=CC=C2)C=C1  O=CC1CC1  C=C(C)C(=O)O   \n",
       "503  CC(N)CC1=CC2=C(C=CC=C2)C=C1  O=CC1CC1  C=C(C)C(=O)O   \n",
       "\n",
       "                          R4  \\\n",
       "0          [C-]#[N+]C(C)(C)C   \n",
       "1          [C-]#[N+]C1CCCCC1   \n",
       "2     CCC(C)([N+]#[C-])C(C)C   \n",
       "3    CC1=CC=C(C=C1)[N+]#[C-]   \n",
       "4       [C-]#[N+]C1=CC=CC=C1   \n",
       "..                       ...   \n",
       "499   CCC(C)([N+]#[C-])C(C)C   \n",
       "500  CC1=CC=C(C=C1)[N+]#[C-]   \n",
       "501     [C-]#[N+]C1=CC=CC=C1   \n",
       "502    CC1=CC=CC=C1[N+]#[C-]   \n",
       "503     CCC\\C=C(/C)[N+]#[C-]   \n",
       "\n",
       "                                               Product  \n",
       "0                C=CC(=O)N(CC(=O)NC(C)(C)C)c1ccc(O)nc1  \n",
       "1                C=CC(=O)N(CC(=O)NC1CCCCC1)c1ccc(O)nc1  \n",
       "2           C=CC(=O)N(CC(=O)NC(C)(CC)C(C)C)c1ccc(O)nc1  \n",
       "3             C=CC(=O)N(CC(=O)Nc1ccc(C)cc1)c1ccc(O)nc1  \n",
       "4                C=CC(=O)N(CC(=O)Nc1ccccc1)c1ccc(O)nc1  \n",
       "..                                                 ...  \n",
       "499  C=C(C)C(=O)N(C(C)Cc1ccc2ccccc2c1)C(C(=O)NC(C)(...  \n",
       "500  C=C(C)C(=O)N(C(C)Cc1ccc2ccccc2c1)C(C(=O)Nc1ccc...  \n",
       "501  C=C(C)C(=O)N(C(C)Cc1ccc2ccccc2c1)C(C(=O)Nc1ccc...  \n",
       "502  C=C(C)C(=O)N(C(C)Cc1ccc2ccccc2c1)C(C(=O)Nc1ccc...  \n",
       "503  C=C(C)C(=O)N(C(C)Cc1ccc2ccccc2c1)C(C(=O)N/C(C)...  \n",
       "\n",
       "[504 rows x 5 columns]"
      ]
     },
     "execution_count": 13,
     "metadata": {},
     "output_type": "execute_result"
    }
   ],
   "source": [
    "df = pd.DataFrame(rows)\n",
    "df"
   ]
  },
  {
   "cell_type": "code",
   "execution_count": 14,
   "metadata": {},
   "outputs": [],
   "source": [
    "import pandas as pd\n",
    "import numpy as np\n",
    "from rdkit import Chem\n",
    "from rdkit.Chem import AllChem, DataStructs\n",
    "from scipy.cluster.hierarchy import linkage, dendrogram\n",
    "from scipy.spatial.distance import pdist, squareform"
   ]
  },
  {
   "cell_type": "code",
   "execution_count": 15,
   "metadata": {},
   "outputs": [],
   "source": [
    "SOURCE_PLATE    = \"Plate 1\"                 # your source-plate barcode\n",
    "DEST_PLATE      = \"Final Plate 1\"           # your destination-plate barcode\n",
    "TRANSFER_NL     = 125                       # transfer volume in nL\n",
    "OVERAGE_FACTOR  = 1.10                      # e.g. 10% dead‐volume buffer\n",
    "NUM_WELLS       = 384                       # size of destination plate\n",
    "ROWS            = list(\"ABCDEFGHIJKLMNOP\")  # 16 rows\n",
    "COLS            = list(range(1,25))         # 24 columns"
   ]
  },
  {
   "cell_type": "code",
   "execution_count": 16,
   "metadata": {},
   "outputs": [],
   "source": [
    "unique_by_R = {\n",
    "    comp: sorted(pd.unique(df[comp])) \n",
    "    for comp in (\"R1\",\"R2\",\"R3\",\"R4\")\n",
    "}"
   ]
  },
  {
   "cell_type": "code",
   "execution_count": 17,
   "metadata": {},
   "outputs": [],
   "source": [
    "def make_wells(rows, cols):\n",
    "    return [f\"{r}{c}\" for r in rows for c in cols]"
   ]
  },
  {
   "cell_type": "code",
   "execution_count": 18,
   "metadata": {},
   "outputs": [],
   "source": [
    "COLS = list(range(1,25))\n",
    "\n",
    "sector_cols = {\n",
    "    \"R1\": COLS[0:6],    # columns 1–6 → 16×6 = 96 wells\n",
    "    \"R2\": COLS[6:12],   # columns 7–12\n",
    "    \"R3\": COLS[12:18],  # columns 13–18\n",
    "    \"R4\": COLS[18:24],  # columns 19–24\n",
    "}"
   ]
  },
  {
   "cell_type": "code",
   "execution_count": 19,
   "metadata": {},
   "outputs": [
    {
     "data": {
      "text/plain": [
       "384"
      ]
     },
     "execution_count": 19,
     "metadata": {},
     "output_type": "execute_result"
    }
   ],
   "source": [
    "NUM_WELLS"
   ]
  },
  {
   "cell_type": "code",
   "execution_count": 22,
   "metadata": {},
   "outputs": [
    {
     "name": "stdout",
     "output_type": "stream",
     "text": [
      "[INFO] Using kmeans clustering\n",
      "[INFO] Using KMeans for 504 samples with 5 features\n",
      "[INFO] K-means clustering completed in 0.28 seconds\n"
     ]
    }
   ],
   "source": [
    "hc = Hierarchical_Clustering(df[\"Product\"].tolist(), mode=\"diverse\", feature_space=\"descriptor\", num_clusters=384)\n",
    "Z, reps = hc.hierarchical_clustering()\n",
    "\n",
    "# _ = hc.plot_selected_similarity_matrix()\n",
    "# hc.plot_dendrogram(Z)\n",
    "# dm.to_image(reps)"
   ]
  },
  {
   "cell_type": "code",
   "execution_count": null,
   "metadata": {},
   "outputs": [],
   "source": []
  },
  {
   "cell_type": "code",
   "execution_count": 21,
   "metadata": {},
   "outputs": [
    {
     "ename": "KeyError",
     "evalue": "'CC(C)C(F)(F)C1=C(N)C=NC=C1'",
     "output_type": "error",
     "traceback": [
      "\u001b[31m---------------------------------------------------------------------------\u001b[39m",
      "\u001b[31mKeyError\u001b[39m                                  Traceback (most recent call last)",
      "\u001b[36mFile \u001b[39m\u001b[32m/mnt/d/Amadteus_Main/Echo_StockSolution_Manager/.venv/lib/python3.11/site-packages/pandas/core/indexes/base.py:3805\u001b[39m, in \u001b[36mIndex.get_loc\u001b[39m\u001b[34m(self, key)\u001b[39m\n\u001b[32m   3804\u001b[39m \u001b[38;5;28;01mtry\u001b[39;00m:\n\u001b[32m-> \u001b[39m\u001b[32m3805\u001b[39m     \u001b[38;5;28;01mreturn\u001b[39;00m \u001b[38;5;28;43mself\u001b[39;49m\u001b[43m.\u001b[49m\u001b[43m_engine\u001b[49m\u001b[43m.\u001b[49m\u001b[43mget_loc\u001b[49m\u001b[43m(\u001b[49m\u001b[43mcasted_key\u001b[49m\u001b[43m)\u001b[49m\n\u001b[32m   3806\u001b[39m \u001b[38;5;28;01mexcept\u001b[39;00m \u001b[38;5;167;01mKeyError\u001b[39;00m \u001b[38;5;28;01mas\u001b[39;00m err:\n",
      "\u001b[36mFile \u001b[39m\u001b[32mindex.pyx:167\u001b[39m, in \u001b[36mpandas._libs.index.IndexEngine.get_loc\u001b[39m\u001b[34m()\u001b[39m\n",
      "\u001b[36mFile \u001b[39m\u001b[32mindex.pyx:196\u001b[39m, in \u001b[36mpandas._libs.index.IndexEngine.get_loc\u001b[39m\u001b[34m()\u001b[39m\n",
      "\u001b[36mFile \u001b[39m\u001b[32mpandas/_libs/hashtable_class_helper.pxi:7081\u001b[39m, in \u001b[36mpandas._libs.hashtable.PyObjectHashTable.get_item\u001b[39m\u001b[34m()\u001b[39m\n",
      "\u001b[36mFile \u001b[39m\u001b[32mpandas/_libs/hashtable_class_helper.pxi:7089\u001b[39m, in \u001b[36mpandas._libs.hashtable.PyObjectHashTable.get_item\u001b[39m\u001b[34m()\u001b[39m\n",
      "\u001b[31mKeyError\u001b[39m: 'CC(C)C(F)(F)C1=C(N)C=NC=C1'",
      "\nThe above exception was the direct cause of the following exception:\n",
      "\u001b[31mKeyError\u001b[39m                                  Traceback (most recent call last)",
      "\u001b[36mCell\u001b[39m\u001b[36m \u001b[39m\u001b[32mIn[21]\u001b[39m\u001b[32m, line 4\u001b[39m\n\u001b[32m      1\u001b[39m reagent_order = {}\n\u001b[32m      2\u001b[39m \u001b[38;5;28;01mfor\u001b[39;00m comp, reagents \u001b[38;5;129;01min\u001b[39;00m unique_by_R.items():\n\u001b[32m      3\u001b[39m     \u001b[38;5;66;03m# build fingerprints\u001b[39;00m\n\u001b[32m----> \u001b[39m\u001b[32m4\u001b[39m     mols = \u001b[43m[\u001b[49m\u001b[43mChem\u001b[49m\u001b[43m.\u001b[49m\u001b[43mMolFromSmiles\u001b[49m\u001b[43m(\u001b[49m\u001b[43mdf\u001b[49m\u001b[43m[\u001b[49m\u001b[43mr\u001b[49m\u001b[43m]\u001b[49m\u001b[43m)\u001b[49m\u001b[43m \u001b[49m\u001b[38;5;28;43;01mfor\u001b[39;49;00m\u001b[43m \u001b[49m\u001b[43mr\u001b[49m\u001b[43m \u001b[49m\u001b[38;5;129;43;01min\u001b[39;49;00m\u001b[43m \u001b[49m\u001b[43mreagents\u001b[49m\u001b[43m]\u001b[49m\n\u001b[32m      5\u001b[39m     fps  = [AllChem.GetMorganFingerprintAsBitVect(m,\u001b[32m2\u001b[39m,\u001b[32m1024\u001b[39m) \u001b[38;5;28;01mfor\u001b[39;00m m \u001b[38;5;129;01min\u001b[39;00m mols]\n\u001b[32m      6\u001b[39m     \u001b[38;5;66;03m# pairwise Tanimoto distances\u001b[39;00m\n",
      "\u001b[36mCell\u001b[39m\u001b[36m \u001b[39m\u001b[32mIn[21]\u001b[39m\u001b[32m, line 4\u001b[39m, in \u001b[36m<listcomp>\u001b[39m\u001b[34m(.0)\u001b[39m\n\u001b[32m      1\u001b[39m reagent_order = {}\n\u001b[32m      2\u001b[39m \u001b[38;5;28;01mfor\u001b[39;00m comp, reagents \u001b[38;5;129;01min\u001b[39;00m unique_by_R.items():\n\u001b[32m      3\u001b[39m     \u001b[38;5;66;03m# build fingerprints\u001b[39;00m\n\u001b[32m----> \u001b[39m\u001b[32m4\u001b[39m     mols = [Chem.MolFromSmiles(\u001b[43mdf\u001b[49m\u001b[43m[\u001b[49m\u001b[43mr\u001b[49m\u001b[43m]\u001b[49m) \u001b[38;5;28;01mfor\u001b[39;00m r \u001b[38;5;129;01min\u001b[39;00m reagents]\n\u001b[32m      5\u001b[39m     fps  = [AllChem.GetMorganFingerprintAsBitVect(m,\u001b[32m2\u001b[39m,\u001b[32m1024\u001b[39m) \u001b[38;5;28;01mfor\u001b[39;00m m \u001b[38;5;129;01min\u001b[39;00m mols]\n\u001b[32m      6\u001b[39m     \u001b[38;5;66;03m# pairwise Tanimoto distances\u001b[39;00m\n",
      "\u001b[36mFile \u001b[39m\u001b[32m/mnt/d/Amadteus_Main/Echo_StockSolution_Manager/.venv/lib/python3.11/site-packages/pandas/core/frame.py:4102\u001b[39m, in \u001b[36mDataFrame.__getitem__\u001b[39m\u001b[34m(self, key)\u001b[39m\n\u001b[32m   4100\u001b[39m \u001b[38;5;28;01mif\u001b[39;00m \u001b[38;5;28mself\u001b[39m.columns.nlevels > \u001b[32m1\u001b[39m:\n\u001b[32m   4101\u001b[39m     \u001b[38;5;28;01mreturn\u001b[39;00m \u001b[38;5;28mself\u001b[39m._getitem_multilevel(key)\n\u001b[32m-> \u001b[39m\u001b[32m4102\u001b[39m indexer = \u001b[38;5;28;43mself\u001b[39;49m\u001b[43m.\u001b[49m\u001b[43mcolumns\u001b[49m\u001b[43m.\u001b[49m\u001b[43mget_loc\u001b[49m\u001b[43m(\u001b[49m\u001b[43mkey\u001b[49m\u001b[43m)\u001b[49m\n\u001b[32m   4103\u001b[39m \u001b[38;5;28;01mif\u001b[39;00m is_integer(indexer):\n\u001b[32m   4104\u001b[39m     indexer = [indexer]\n",
      "\u001b[36mFile \u001b[39m\u001b[32m/mnt/d/Amadteus_Main/Echo_StockSolution_Manager/.venv/lib/python3.11/site-packages/pandas/core/indexes/base.py:3812\u001b[39m, in \u001b[36mIndex.get_loc\u001b[39m\u001b[34m(self, key)\u001b[39m\n\u001b[32m   3807\u001b[39m     \u001b[38;5;28;01mif\u001b[39;00m \u001b[38;5;28misinstance\u001b[39m(casted_key, \u001b[38;5;28mslice\u001b[39m) \u001b[38;5;129;01mor\u001b[39;00m (\n\u001b[32m   3808\u001b[39m         \u001b[38;5;28misinstance\u001b[39m(casted_key, abc.Iterable)\n\u001b[32m   3809\u001b[39m         \u001b[38;5;129;01mand\u001b[39;00m \u001b[38;5;28many\u001b[39m(\u001b[38;5;28misinstance\u001b[39m(x, \u001b[38;5;28mslice\u001b[39m) \u001b[38;5;28;01mfor\u001b[39;00m x \u001b[38;5;129;01min\u001b[39;00m casted_key)\n\u001b[32m   3810\u001b[39m     ):\n\u001b[32m   3811\u001b[39m         \u001b[38;5;28;01mraise\u001b[39;00m InvalidIndexError(key)\n\u001b[32m-> \u001b[39m\u001b[32m3812\u001b[39m     \u001b[38;5;28;01mraise\u001b[39;00m \u001b[38;5;167;01mKeyError\u001b[39;00m(key) \u001b[38;5;28;01mfrom\u001b[39;00m\u001b[38;5;250m \u001b[39m\u001b[34;01merr\u001b[39;00m\n\u001b[32m   3813\u001b[39m \u001b[38;5;28;01mexcept\u001b[39;00m \u001b[38;5;167;01mTypeError\u001b[39;00m:\n\u001b[32m   3814\u001b[39m     \u001b[38;5;66;03m# If we have a listlike key, _check_indexing_error will raise\u001b[39;00m\n\u001b[32m   3815\u001b[39m     \u001b[38;5;66;03m#  InvalidIndexError. Otherwise we fall through and re-raise\u001b[39;00m\n\u001b[32m   3816\u001b[39m     \u001b[38;5;66;03m#  the TypeError.\u001b[39;00m\n\u001b[32m   3817\u001b[39m     \u001b[38;5;28mself\u001b[39m._check_indexing_error(key)\n",
      "\u001b[31mKeyError\u001b[39m: 'CC(C)C(F)(F)C1=C(N)C=NC=C1'"
     ]
    }
   ],
   "source": [
    "reagent_order = {}\n",
    "for comp, reagents in unique_by_R.items():\n",
    "    # build fingerprints\n",
    "    mols = [Chem.MolFromSmiles(df[r]) for r in reagents]\n",
    "    fps  = [AllChem.GetMorganFingerprintAsBitVect(m,2,1024) for m in mols]\n",
    "    # pairwise Tanimoto distances\n",
    "    pdist_vec = pdist([list(fp) for fp in fps], lambda x,y: 1 - DataStructs.TanimotoSimilarity(\n",
    "        Chem.DataStructs.ExplicitBitVect(x), Chem.DataStructs.ExplicitBitVect(y)\n",
    "    ))\n",
    "    Z = linkage(pdist_vec, method=\"average\")\n",
    "    # dendrogram leaf‐order\n",
    "    leaf_order = dendrogram(Z, no_plot=True)[\"leaves\"]\n",
    "    reagent_order[comp] = [reagents[i] for i in leaf_order]"
   ]
  },
  {
   "cell_type": "code",
   "execution_count": null,
   "metadata": {},
   "outputs": [],
   "source": []
  },
  {
   "cell_type": "code",
   "execution_count": null,
   "metadata": {},
   "outputs": [],
   "source": []
  },
  {
   "cell_type": "code",
   "execution_count": null,
   "metadata": {},
   "outputs": [],
   "source": [
    "products_smiles = df[\"Product\"].tolist()\n",
    "products_mol = [dm.to_mol(smi) for smi in products_smiles]"
   ]
  },
  {
   "cell_type": "code",
   "execution_count": null,
   "metadata": {},
   "outputs": [],
   "source": [
    "hc = Hierarchical_Clustering(products_smiles, mode=\"similar\", feature_space=\"fingerprint\", num_clusters=5)\n",
    "Z, reps = hc.hierarchical_clustering()\n",
    "_ = hc.plot_selected_similarity_matrix()\n",
    "hc.plot_dendrogram(Z)\n",
    "dm.to_image(reps)"
   ]
  },
  {
   "cell_type": "code",
   "execution_count": null,
   "metadata": {},
   "outputs": [],
   "source": [
    "hc = Hierarchical_Clustering(products_smiles, mode=\"diverse\", feature_space=\"fingerprint\")\n",
    "Z, reps = hc.hierarchical_clustering()\n",
    "_ = hc.plot_selected_similarity_matrix()\n",
    "hc.plot_dendrogram(Z)\n",
    "dm.to_image(reps)"
   ]
  },
  {
   "cell_type": "code",
   "execution_count": null,
   "metadata": {},
   "outputs": [],
   "source": []
  },
  {
   "cell_type": "code",
   "execution_count": null,
   "metadata": {},
   "outputs": [],
   "source": []
  },
  {
   "cell_type": "code",
   "execution_count": null,
   "metadata": {},
   "outputs": [],
   "source": []
  }
 ],
 "metadata": {
  "kernelspec": {
   "display_name": ".venv",
   "language": "python",
   "name": "python3"
  },
  "language_info": {
   "codemirror_mode": {
    "name": "ipython",
    "version": 3
   },
   "file_extension": ".py",
   "mimetype": "text/x-python",
   "name": "python",
   "nbconvert_exporter": "python",
   "pygments_lexer": "ipython3",
   "version": "3.11.12"
  }
 },
 "nbformat": 4,
 "nbformat_minor": 2
}
